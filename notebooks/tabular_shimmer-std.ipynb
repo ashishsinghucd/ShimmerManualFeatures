{
 "cells": [
  {
   "cell_type": "code",
   "execution_count": 1,
   "id": "aefd12a0-9b08-490c-a954-d88208bc0ce5",
   "metadata": {},
   "outputs": [],
   "source": [
    "import numpy as np\n",
    "import logging\n",
    "import math\n",
    "import pandas as pd\n",
    "logging.basicConfig(level=logging.INFO)\n",
    "logger = logging.getLogger(__name__)"
   ]
  },
  {
   "cell_type": "code",
   "execution_count": 2,
   "id": "566e7100-3501-4339-a3f8-74efb09cc228",
   "metadata": {},
   "outputs": [],
   "source": [
    "from sklearn.utils import shuffle\n",
    "from sklearn.preprocessing import StandardScaler"
   ]
  },
  {
   "cell_type": "code",
   "execution_count": 3,
   "id": "00513c2a-544a-43c9-8c78-687ab3c8fd18",
   "metadata": {},
   "outputs": [],
   "source": [
    "from sklearn.ensemble import RandomForestClassifier\n",
    "from sklearn import metrics"
   ]
  },
  {
   "cell_type": "code",
   "execution_count": 4,
   "id": "824d65ff-a082-4043-9a60-b622f38420c7",
   "metadata": {},
   "outputs": [],
   "source": [
    "output_path = \"/home/ashish/Results/Datasets/Shimmer/MP/ManualStd/103007/\""
   ]
  },
  {
   "cell_type": "code",
   "execution_count": 5,
   "id": "c730bb13-de16-4688-b584-86678afb3350",
   "metadata": {},
   "outputs": [],
   "source": [
    "train_df = pd.read_csv(output_path + \"train_default.csv\")\n",
    "test_df = pd.read_csv(output_path + \"test_default.csv\")\n",
    "train_df = shuffle(train_df)\n",
    "test_df = shuffle(test_df)"
   ]
  },
  {
   "cell_type": "code",
   "execution_count": 6,
   "id": "67faced6-ee97-4ca7-a362-d6c5f93a0272",
   "metadata": {},
   "outputs": [
    {
     "data": {
      "text/html": [
       "<div>\n",
       "<style scoped>\n",
       "    .dataframe tbody tr th:only-of-type {\n",
       "        vertical-align: middle;\n",
       "    }\n",
       "\n",
       "    .dataframe tbody tr th {\n",
       "        vertical-align: top;\n",
       "    }\n",
       "\n",
       "    .dataframe thead th {\n",
       "        text-align: right;\n",
       "    }\n",
       "</style>\n",
       "<table border=\"1\" class=\"dataframe\">\n",
       "  <thead>\n",
       "    <tr style=\"text-align: right;\">\n",
       "      <th></th>\n",
       "      <th>0</th>\n",
       "      <th>1</th>\n",
       "      <th>2</th>\n",
       "      <th>3</th>\n",
       "      <th>4</th>\n",
       "      <th>5</th>\n",
       "      <th>6</th>\n",
       "      <th>7</th>\n",
       "      <th>8</th>\n",
       "      <th>9</th>\n",
       "      <th>...</th>\n",
       "      <th>1252</th>\n",
       "      <th>1253</th>\n",
       "      <th>1254</th>\n",
       "      <th>1255</th>\n",
       "      <th>1256</th>\n",
       "      <th>1257</th>\n",
       "      <th>1258</th>\n",
       "      <th>1259</th>\n",
       "      <th>1260</th>\n",
       "      <th>1261</th>\n",
       "    </tr>\n",
       "  </thead>\n",
       "  <tbody>\n",
       "    <tr>\n",
       "      <th>1376</th>\n",
       "      <td>16</td>\n",
       "      <td>-1.564618</td>\n",
       "      <td>-0.716527</td>\n",
       "      <td>0.638926</td>\n",
       "      <td>-0.009444</td>\n",
       "      <td>-1.563194e-16</td>\n",
       "      <td>1.0</td>\n",
       "      <td>1.0</td>\n",
       "      <td>0.824952</td>\n",
       "      <td>-2.201927</td>\n",
       "      <td>...</td>\n",
       "      <td>2.259081</td>\n",
       "      <td>3.721291</td>\n",
       "      <td>-0.700087</td>\n",
       "      <td>0.655021</td>\n",
       "      <td>1.943817</td>\n",
       "      <td>0.000101</td>\n",
       "      <td>1.011084</td>\n",
       "      <td>1.0</td>\n",
       "      <td>P16</td>\n",
       "      <td>N</td>\n",
       "    </tr>\n",
       "    <tr>\n",
       "      <th>1067</th>\n",
       "      <td>26</td>\n",
       "      <td>-1.678563</td>\n",
       "      <td>-0.726076</td>\n",
       "      <td>0.643139</td>\n",
       "      <td>0.120680</td>\n",
       "      <td>-8.810730e-16</td>\n",
       "      <td>1.0</td>\n",
       "      <td>1.0</td>\n",
       "      <td>0.804992</td>\n",
       "      <td>-2.350703</td>\n",
       "      <td>...</td>\n",
       "      <td>1.386505</td>\n",
       "      <td>4.202991</td>\n",
       "      <td>0.664435</td>\n",
       "      <td>-1.009919</td>\n",
       "      <td>2.371429</td>\n",
       "      <td>0.000347</td>\n",
       "      <td>1.016882</td>\n",
       "      <td>1.0</td>\n",
       "      <td>P48</td>\n",
       "      <td>A</td>\n",
       "    </tr>\n",
       "    <tr>\n",
       "      <th>487</th>\n",
       "      <td>14</td>\n",
       "      <td>-1.433422</td>\n",
       "      <td>-0.675575</td>\n",
       "      <td>0.539146</td>\n",
       "      <td>-0.122588</td>\n",
       "      <td>-4.192202e-16</td>\n",
       "      <td>1.0</td>\n",
       "      <td>1.0</td>\n",
       "      <td>0.796194</td>\n",
       "      <td>-1.957041</td>\n",
       "      <td>...</td>\n",
       "      <td>1.036123</td>\n",
       "      <td>3.319753</td>\n",
       "      <td>-0.607670</td>\n",
       "      <td>-0.952063</td>\n",
       "      <td>2.192791</td>\n",
       "      <td>0.000150</td>\n",
       "      <td>1.013307</td>\n",
       "      <td>1.0</td>\n",
       "      <td>P23</td>\n",
       "      <td>N</td>\n",
       "    </tr>\n",
       "    <tr>\n",
       "      <th>1313</th>\n",
       "      <td>22</td>\n",
       "      <td>-1.696039</td>\n",
       "      <td>-0.651949</td>\n",
       "      <td>0.623066</td>\n",
       "      <td>-0.062335</td>\n",
       "      <td>3.774758e-16</td>\n",
       "      <td>1.0</td>\n",
       "      <td>1.0</td>\n",
       "      <td>0.772510</td>\n",
       "      <td>-2.250611</td>\n",
       "      <td>...</td>\n",
       "      <td>2.880918</td>\n",
       "      <td>4.233232</td>\n",
       "      <td>1.437330</td>\n",
       "      <td>1.494976</td>\n",
       "      <td>2.364116</td>\n",
       "      <td>0.000108</td>\n",
       "      <td>1.014687</td>\n",
       "      <td>1.0</td>\n",
       "      <td>P4</td>\n",
       "      <td>N</td>\n",
       "    </tr>\n",
       "    <tr>\n",
       "      <th>122</th>\n",
       "      <td>19</td>\n",
       "      <td>-1.637804</td>\n",
       "      <td>-0.690133</td>\n",
       "      <td>0.591804</td>\n",
       "      <td>-0.011363</td>\n",
       "      <td>2.291500e-16</td>\n",
       "      <td>1.0</td>\n",
       "      <td>1.0</td>\n",
       "      <td>0.783122</td>\n",
       "      <td>-2.591151</td>\n",
       "      <td>...</td>\n",
       "      <td>1.848623</td>\n",
       "      <td>4.078577</td>\n",
       "      <td>-0.902219</td>\n",
       "      <td>-0.089117</td>\n",
       "      <td>2.163682</td>\n",
       "      <td>0.001163</td>\n",
       "      <td>1.020685</td>\n",
       "      <td>1.0</td>\n",
       "      <td>P54</td>\n",
       "      <td>R</td>\n",
       "    </tr>\n",
       "  </tbody>\n",
       "</table>\n",
       "<p>5 rows × 1262 columns</p>\n",
       "</div>"
      ],
      "text/plain": [
       "       0         1         2         3         4             5    6    7  \\\n",
       "1376  16 -1.564618 -0.716527  0.638926 -0.009444 -1.563194e-16  1.0  1.0   \n",
       "1067  26 -1.678563 -0.726076  0.643139  0.120680 -8.810730e-16  1.0  1.0   \n",
       "487   14 -1.433422 -0.675575  0.539146 -0.122588 -4.192202e-16  1.0  1.0   \n",
       "1313  22 -1.696039 -0.651949  0.623066 -0.062335  3.774758e-16  1.0  1.0   \n",
       "122   19 -1.637804 -0.690133  0.591804 -0.011363  2.291500e-16  1.0  1.0   \n",
       "\n",
       "             8         9  ...      1252      1253      1254      1255  \\\n",
       "1376  0.824952 -2.201927  ...  2.259081  3.721291 -0.700087  0.655021   \n",
       "1067  0.804992 -2.350703  ...  1.386505  4.202991  0.664435 -1.009919   \n",
       "487   0.796194 -1.957041  ...  1.036123  3.319753 -0.607670 -0.952063   \n",
       "1313  0.772510 -2.250611  ...  2.880918  4.233232  1.437330  1.494976   \n",
       "122   0.783122 -2.591151  ...  1.848623  4.078577 -0.902219 -0.089117   \n",
       "\n",
       "          1256      1257      1258  1259  1260  1261  \n",
       "1376  1.943817  0.000101  1.011084   1.0   P16     N  \n",
       "1067  2.371429  0.000347  1.016882   1.0   P48     A  \n",
       "487   2.192791  0.000150  1.013307   1.0   P23     N  \n",
       "1313  2.364116  0.000108  1.014687   1.0    P4     N  \n",
       "122   2.163682  0.001163  1.020685   1.0   P54     R  \n",
       "\n",
       "[5 rows x 1262 columns]"
      ]
     },
     "execution_count": 6,
     "metadata": {},
     "output_type": "execute_result"
    }
   ],
   "source": [
    "train_df.head()"
   ]
  },
  {
   "cell_type": "code",
   "execution_count": 7,
   "id": "7f96571a-db81-4143-a539-489aef98df08",
   "metadata": {},
   "outputs": [
    {
     "data": {
      "text/plain": [
       "((1426, 1262), (595, 1262))"
      ]
     },
     "execution_count": 7,
     "metadata": {},
     "output_type": "execute_result"
    }
   ],
   "source": [
    "train_df.shape, test_df.shape"
   ]
  },
  {
   "cell_type": "code",
   "execution_count": 8,
   "id": "070a6518-9e33-47fb-8745-536bc5b99890",
   "metadata": {},
   "outputs": [],
   "source": [
    "train_X, train_Y = train_df.iloc[:, :-2], train_df.iloc[:, -1]\n",
    "test_X, test_Y = test_df.iloc[:, :-2], test_df.iloc[:, -1]"
   ]
  },
  {
   "cell_type": "code",
   "execution_count": 9,
   "id": "974a5037-7697-457e-9cbf-5dea812bda7e",
   "metadata": {},
   "outputs": [
    {
     "data": {
      "text/html": [
       "<div>\n",
       "<style scoped>\n",
       "    .dataframe tbody tr th:only-of-type {\n",
       "        vertical-align: middle;\n",
       "    }\n",
       "\n",
       "    .dataframe tbody tr th {\n",
       "        vertical-align: top;\n",
       "    }\n",
       "\n",
       "    .dataframe thead th {\n",
       "        text-align: right;\n",
       "    }\n",
       "</style>\n",
       "<table border=\"1\" class=\"dataframe\">\n",
       "  <thead>\n",
       "    <tr style=\"text-align: right;\">\n",
       "      <th></th>\n",
       "      <th>0</th>\n",
       "      <th>1</th>\n",
       "      <th>2</th>\n",
       "      <th>3</th>\n",
       "      <th>4</th>\n",
       "      <th>5</th>\n",
       "      <th>6</th>\n",
       "      <th>7</th>\n",
       "      <th>8</th>\n",
       "      <th>9</th>\n",
       "      <th>...</th>\n",
       "      <th>1250</th>\n",
       "      <th>1251</th>\n",
       "      <th>1252</th>\n",
       "      <th>1253</th>\n",
       "      <th>1254</th>\n",
       "      <th>1255</th>\n",
       "      <th>1256</th>\n",
       "      <th>1257</th>\n",
       "      <th>1258</th>\n",
       "      <th>1259</th>\n",
       "    </tr>\n",
       "  </thead>\n",
       "  <tbody>\n",
       "    <tr>\n",
       "      <th>1376</th>\n",
       "      <td>16</td>\n",
       "      <td>-1.564618</td>\n",
       "      <td>-0.716527</td>\n",
       "      <td>0.638926</td>\n",
       "      <td>-0.009444</td>\n",
       "      <td>-1.563194e-16</td>\n",
       "      <td>1.0</td>\n",
       "      <td>1.0</td>\n",
       "      <td>0.824952</td>\n",
       "      <td>-2.201927</td>\n",
       "      <td>...</td>\n",
       "      <td>0.852828</td>\n",
       "      <td>-1.462210</td>\n",
       "      <td>2.259081</td>\n",
       "      <td>3.721291</td>\n",
       "      <td>-0.700087</td>\n",
       "      <td>0.655021</td>\n",
       "      <td>1.943817</td>\n",
       "      <td>0.000101</td>\n",
       "      <td>1.011084</td>\n",
       "      <td>1.0</td>\n",
       "    </tr>\n",
       "    <tr>\n",
       "      <th>1067</th>\n",
       "      <td>26</td>\n",
       "      <td>-1.678563</td>\n",
       "      <td>-0.726076</td>\n",
       "      <td>0.643139</td>\n",
       "      <td>0.120680</td>\n",
       "      <td>-8.810730e-16</td>\n",
       "      <td>1.0</td>\n",
       "      <td>1.0</td>\n",
       "      <td>0.804992</td>\n",
       "      <td>-2.350703</td>\n",
       "      <td>...</td>\n",
       "      <td>0.813584</td>\n",
       "      <td>-2.816487</td>\n",
       "      <td>1.386505</td>\n",
       "      <td>4.202991</td>\n",
       "      <td>0.664435</td>\n",
       "      <td>-1.009919</td>\n",
       "      <td>2.371429</td>\n",
       "      <td>0.000347</td>\n",
       "      <td>1.016882</td>\n",
       "      <td>1.0</td>\n",
       "    </tr>\n",
       "    <tr>\n",
       "      <th>487</th>\n",
       "      <td>14</td>\n",
       "      <td>-1.433422</td>\n",
       "      <td>-0.675575</td>\n",
       "      <td>0.539146</td>\n",
       "      <td>-0.122588</td>\n",
       "      <td>-4.192202e-16</td>\n",
       "      <td>1.0</td>\n",
       "      <td>1.0</td>\n",
       "      <td>0.796194</td>\n",
       "      <td>-1.957041</td>\n",
       "      <td>...</td>\n",
       "      <td>0.858449</td>\n",
       "      <td>-2.283630</td>\n",
       "      <td>1.036123</td>\n",
       "      <td>3.319753</td>\n",
       "      <td>-0.607670</td>\n",
       "      <td>-0.952063</td>\n",
       "      <td>2.192791</td>\n",
       "      <td>0.000150</td>\n",
       "      <td>1.013307</td>\n",
       "      <td>1.0</td>\n",
       "    </tr>\n",
       "    <tr>\n",
       "      <th>1313</th>\n",
       "      <td>22</td>\n",
       "      <td>-1.696039</td>\n",
       "      <td>-0.651949</td>\n",
       "      <td>0.623066</td>\n",
       "      <td>-0.062335</td>\n",
       "      <td>3.774758e-16</td>\n",
       "      <td>1.0</td>\n",
       "      <td>1.0</td>\n",
       "      <td>0.772510</td>\n",
       "      <td>-2.250611</td>\n",
       "      <td>...</td>\n",
       "      <td>0.744104</td>\n",
       "      <td>-1.352314</td>\n",
       "      <td>2.880918</td>\n",
       "      <td>4.233232</td>\n",
       "      <td>1.437330</td>\n",
       "      <td>1.494976</td>\n",
       "      <td>2.364116</td>\n",
       "      <td>0.000108</td>\n",
       "      <td>1.014687</td>\n",
       "      <td>1.0</td>\n",
       "    </tr>\n",
       "    <tr>\n",
       "      <th>122</th>\n",
       "      <td>19</td>\n",
       "      <td>-1.637804</td>\n",
       "      <td>-0.690133</td>\n",
       "      <td>0.591804</td>\n",
       "      <td>-0.011363</td>\n",
       "      <td>2.291500e-16</td>\n",
       "      <td>1.0</td>\n",
       "      <td>1.0</td>\n",
       "      <td>0.783122</td>\n",
       "      <td>-2.591151</td>\n",
       "      <td>...</td>\n",
       "      <td>0.869183</td>\n",
       "      <td>-2.229954</td>\n",
       "      <td>1.848623</td>\n",
       "      <td>4.078577</td>\n",
       "      <td>-0.902219</td>\n",
       "      <td>-0.089117</td>\n",
       "      <td>2.163682</td>\n",
       "      <td>0.001163</td>\n",
       "      <td>1.020685</td>\n",
       "      <td>1.0</td>\n",
       "    </tr>\n",
       "  </tbody>\n",
       "</table>\n",
       "<p>5 rows × 1260 columns</p>\n",
       "</div>"
      ],
      "text/plain": [
       "       0         1         2         3         4             5    6    7  \\\n",
       "1376  16 -1.564618 -0.716527  0.638926 -0.009444 -1.563194e-16  1.0  1.0   \n",
       "1067  26 -1.678563 -0.726076  0.643139  0.120680 -8.810730e-16  1.0  1.0   \n",
       "487   14 -1.433422 -0.675575  0.539146 -0.122588 -4.192202e-16  1.0  1.0   \n",
       "1313  22 -1.696039 -0.651949  0.623066 -0.062335  3.774758e-16  1.0  1.0   \n",
       "122   19 -1.637804 -0.690133  0.591804 -0.011363  2.291500e-16  1.0  1.0   \n",
       "\n",
       "             8         9  ...      1250      1251      1252      1253  \\\n",
       "1376  0.824952 -2.201927  ...  0.852828 -1.462210  2.259081  3.721291   \n",
       "1067  0.804992 -2.350703  ...  0.813584 -2.816487  1.386505  4.202991   \n",
       "487   0.796194 -1.957041  ...  0.858449 -2.283630  1.036123  3.319753   \n",
       "1313  0.772510 -2.250611  ...  0.744104 -1.352314  2.880918  4.233232   \n",
       "122   0.783122 -2.591151  ...  0.869183 -2.229954  1.848623  4.078577   \n",
       "\n",
       "          1254      1255      1256      1257      1258  1259  \n",
       "1376 -0.700087  0.655021  1.943817  0.000101  1.011084   1.0  \n",
       "1067  0.664435 -1.009919  2.371429  0.000347  1.016882   1.0  \n",
       "487  -0.607670 -0.952063  2.192791  0.000150  1.013307   1.0  \n",
       "1313  1.437330  1.494976  2.364116  0.000108  1.014687   1.0  \n",
       "122  -0.902219 -0.089117  2.163682  0.001163  1.020685   1.0  \n",
       "\n",
       "[5 rows x 1260 columns]"
      ]
     },
     "execution_count": 9,
     "metadata": {},
     "output_type": "execute_result"
    }
   ],
   "source": [
    "train_X.head()"
   ]
  },
  {
   "cell_type": "code",
   "execution_count": 10,
   "id": "ec57055f-6121-4c85-8d64-b53e84db08c9",
   "metadata": {},
   "outputs": [
    {
     "data": {
      "text/plain": [
       "1376    N\n",
       "1067    A\n",
       "487     N\n",
       "1313    N\n",
       "122     R\n",
       "Name: 1261, dtype: object"
      ]
     },
     "execution_count": 10,
     "metadata": {},
     "output_type": "execute_result"
    }
   ],
   "source": [
    "train_Y.head()"
   ]
  },
  {
   "cell_type": "code",
   "execution_count": 11,
   "id": "9e5a2884-94bf-406f-b071-0bfa24e0aef2",
   "metadata": {},
   "outputs": [],
   "source": [
    "regressor = RandomForestClassifier(n_estimators=200, random_state=0)\n",
    "regressor.fit(train_X, train_Y)\n",
    "pred_Y = regressor.predict(test_X)"
   ]
  },
  {
   "cell_type": "code",
   "execution_count": 12,
   "id": "f489f721-9167-41f5-a574-7c4021cb4d63",
   "metadata": {},
   "outputs": [],
   "source": [
    "accuracy = metrics.accuracy_score(test_Y, pred_Y)\n",
    "confusion_matrix = metrics.confusion_matrix(test_Y, pred_Y)\n",
    "classification_report = metrics.classification_report(test_Y, pred_Y)"
   ]
  },
  {
   "cell_type": "code",
   "execution_count": 13,
   "id": "039ef168-b995-4ff9-b767-3b3193d21032",
   "metadata": {},
   "outputs": [
    {
     "name": "stdout",
     "output_type": "stream",
     "text": [
      "0.7798319327731092\n",
      "[[129   5  14   2]\n",
      " [ 32  90  18   0]\n",
      " [ 36   1 110   3]\n",
      " [  6   1  13 135]]\n",
      "              precision    recall  f1-score   support\n",
      "\n",
      "           A       0.64      0.86      0.73       150\n",
      "        Arch       0.93      0.64      0.76       140\n",
      "           N       0.71      0.73      0.72       150\n",
      "           R       0.96      0.87      0.92       155\n",
      "\n",
      "    accuracy                           0.78       595\n",
      "   macro avg       0.81      0.78      0.78       595\n",
      "weighted avg       0.81      0.78      0.78       595\n",
      "\n"
     ]
    },
    {
     "data": {
      "text/plain": [
       "(None, None, None)"
      ]
     },
     "execution_count": 13,
     "metadata": {},
     "output_type": "execute_result"
    }
   ],
   "source": [
    "print(accuracy), print(confusion_matrix), print(classification_report)"
   ]
  },
  {
   "cell_type": "code",
   "execution_count": 14,
   "id": "c3a608e9-9512-4c9d-8128-12ab0f9cca3c",
   "metadata": {},
   "outputs": [],
   "source": [
    "sc = StandardScaler()\n",
    "train_X = sc.fit_transform(train_X)\n",
    "test_X = sc.transform(test_X)"
   ]
  },
  {
   "cell_type": "code",
   "execution_count": 15,
   "id": "cc598506-49a0-470c-89d6-da8eee85f838",
   "metadata": {},
   "outputs": [
    {
     "name": "stdout",
     "output_type": "stream",
     "text": [
      "0.7680672268907563\n",
      "[[118   9  20   3]\n",
      " [ 30  90  19   1]\n",
      " [ 34   3 112   1]\n",
      " [  6   0  12 137]]\n",
      "              precision    recall  f1-score   support\n",
      "\n",
      "           A       0.63      0.79      0.70       150\n",
      "        Arch       0.88      0.64      0.74       140\n",
      "           N       0.69      0.75      0.72       150\n",
      "           R       0.96      0.88      0.92       155\n",
      "\n",
      "    accuracy                           0.77       595\n",
      "   macro avg       0.79      0.77      0.77       595\n",
      "weighted avg       0.79      0.77      0.77       595\n",
      "\n"
     ]
    },
    {
     "data": {
      "text/plain": [
       "(None, None, None)"
      ]
     },
     "execution_count": 15,
     "metadata": {},
     "output_type": "execute_result"
    }
   ],
   "source": [
    "regressor = RandomForestClassifier(random_state=0)\n",
    "regressor.fit(train_X, train_Y)\n",
    "pred_Y = regressor.predict(test_X)\n",
    "accuracy = metrics.accuracy_score(test_Y, pred_Y)\n",
    "confusion_matrix = metrics.confusion_matrix(test_Y, pred_Y)\n",
    "classification_report = metrics.classification_report(test_Y, pred_Y)\n",
    "print(accuracy), print(confusion_matrix), print(classification_report)"
   ]
  },
  {
   "cell_type": "code",
   "execution_count": 16,
   "id": "06f0b770-e45d-4c01-acf1-cbf983bd5a5d",
   "metadata": {},
   "outputs": [
    {
     "name": "stdout",
     "output_type": "stream",
     "text": [
      "0.7798319327731092\n",
      "[[117   7  24   2]\n",
      " [ 25  91  23   1]\n",
      " [ 29   1 117   3]\n",
      " [  5   0  11 139]]\n",
      "              precision    recall  f1-score   support\n",
      "\n",
      "           A       0.66      0.78      0.72       150\n",
      "        Arch       0.92      0.65      0.76       140\n",
      "           N       0.67      0.78      0.72       150\n",
      "           R       0.96      0.90      0.93       155\n",
      "\n",
      "    accuracy                           0.78       595\n",
      "   macro avg       0.80      0.78      0.78       595\n",
      "weighted avg       0.80      0.78      0.78       595\n",
      "\n"
     ]
    },
    {
     "data": {
      "text/plain": [
       "(None, None, None)"
      ]
     },
     "execution_count": 16,
     "metadata": {},
     "output_type": "execute_result"
    }
   ],
   "source": [
    "regressor = RandomForestClassifier(n_estimators=400, random_state=0)\n",
    "regressor.fit(train_X, train_Y)\n",
    "pred_Y = regressor.predict(test_X)\n",
    "accuracy = metrics.accuracy_score(test_Y, pred_Y)\n",
    "confusion_matrix = metrics.confusion_matrix(test_Y, pred_Y)\n",
    "classification_report = metrics.classification_report(test_Y, pred_Y)\n",
    "print(accuracy), print(confusion_matrix), print(classification_report)"
   ]
  },
  {
   "cell_type": "code",
   "execution_count": null,
   "id": "622a4c8d-ac36-46a2-8d52-7ef17354eeb2",
   "metadata": {},
   "outputs": [],
   "source": []
  }
 ],
 "metadata": {
  "kernelspec": {
   "display_name": "Python 3",
   "language": "python",
   "name": "python3"
  },
  "language_info": {
   "codemirror_mode": {
    "name": "ipython",
    "version": 3
   },
   "file_extension": ".py",
   "mimetype": "text/x-python",
   "name": "python",
   "nbconvert_exporter": "python",
   "pygments_lexer": "ipython3",
   "version": "3.7.9"
  }
 },
 "nbformat": 4,
 "nbformat_minor": 5
}
