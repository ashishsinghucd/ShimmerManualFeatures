{
 "cells": [
  {
   "cell_type": "code",
   "execution_count": 74,
   "id": "aefd12a0-9b08-490c-a954-d88208bc0ce5",
   "metadata": {},
   "outputs": [],
   "source": [
    "import numpy as np\n",
    "import logging\n",
    "import math\n",
    "import pandas as pd\n",
    "logging.basicConfig(level=logging.INFO)\n",
    "logger = logging.getLogger(__name__)"
   ]
  },
  {
   "cell_type": "code",
   "execution_count": 141,
   "id": "566e7100-3501-4339-a3f8-74efb09cc228",
   "metadata": {},
   "outputs": [],
   "source": [
    "from sklearn.utils import shuffle\n",
    "from sklearn.preprocessing import StandardScaler"
   ]
  },
  {
   "cell_type": "code",
   "execution_count": 265,
   "id": "00513c2a-544a-43c9-8c78-687ab3c8fd18",
   "metadata": {},
   "outputs": [],
   "source": [
    "from sklearn.ensemble import RandomForestClassifier\n",
    "from sklearn import metrics\n",
    "from sklearn.model_selection import RandomizedSearchCV\n",
    "from sklearn.linear_model import LogisticRegression\n",
    "from sklearn.naive_bayes import GaussianNB\n",
    "from sklearn.neighbors import KNeighborsClassifier\n",
    "from sklearn import svm"
   ]
  },
  {
   "cell_type": "code",
   "execution_count": 264,
   "id": "824d65ff-a082-4043-9a60-b622f38420c7",
   "metadata": {},
   "outputs": [],
   "source": [
    "output_path = \"/home/ashish/Results/Datasets/Shimmer/MP/Manual/103007/\"\n",
    "data_type = \"default\"\n",
    "SEED_VALUES = [103007, 1899797, 191099]"
   ]
  },
  {
   "cell_type": "code",
   "execution_count": 204,
   "id": "d163b61f-fd9b-4564-8037-6b6e17734927",
   "metadata": {},
   "outputs": [],
   "source": [
    "n_estimators = [int(x) for x in np.linspace(start = 50, stop = 600, num = 8)]\n",
    "# max_features = ['auto', 'sqrt']\n",
    "# Maximum number of levels in tree\n",
    "# max_depth = [int(x) for x in np.linspace(10, 110, num = 11)]\n",
    "# max_depth.append(None)\n",
    "# Minimum number of samples required to split a node\n",
    "# min_samples_split = [2, 5, 10]\n",
    "# Minimum number of samples required at each leaf node\n",
    "# min_samples_leaf = [1, 2, 4]\n",
    "# Method of selecting samples for training each tree\n",
    "# bootstrap = [True, False]\n",
    "\n",
    "random_grid = {'n_estimators': n_estimators,\n",
    "               # 'max_features': max_features,\n",
    "               # 'max_depth': max_depth,\n",
    "               # 'min_samples_split': min_samples_split,\n",
    "               # 'min_samples_leaf': min_samples_leaf,\n",
    "               # 'bootstrap': bootstrap\n",
    "              }"
   ]
  },
  {
   "cell_type": "code",
   "execution_count": 205,
   "id": "fd7620f4-287c-4122-80a5-022bf785bfdf",
   "metadata": {},
   "outputs": [
    {
     "data": {
      "text/plain": [
       "[50, 128, 207, 285, 364, 442, 521, 600]"
      ]
     },
     "execution_count": 205,
     "metadata": {},
     "output_type": "execute_result"
    }
   ],
   "source": [
    "n_estimators"
   ]
  },
  {
   "cell_type": "code",
   "execution_count": 207,
   "id": "96ac7da4-b2e7-41c8-9345-262efea8dad5",
   "metadata": {},
   "outputs": [
    {
     "data": {
      "text/plain": [
       "'default_9'"
      ]
     },
     "execution_count": 207,
     "metadata": {},
     "output_type": "execute_result"
    }
   ],
   "source": [
    "data_type"
   ]
  },
  {
   "cell_type": "code",
   "execution_count": 210,
   "id": "c730bb13-de16-4688-b584-86678afb3350",
   "metadata": {},
   "outputs": [
    {
     "name": "stdout",
     "output_type": "stream",
     "text": [
      "(1426, 1262) (595, 1262)\n",
      "Fitting 3 folds for each of 6 candidates, totalling 18 fits\n",
      "{'n_estimators': 207}\n",
      "0.7865546218487395\n",
      "[[124   5  17   4]\n",
      " [ 26  95  19   0]\n",
      " [ 34   1 112   3]\n",
      " [  5   1  12 137]]\n",
      "              precision    recall  f1-score   support\n",
      "\n",
      "           A       0.66      0.83      0.73       150\n",
      "        Arch       0.93      0.68      0.79       140\n",
      "           N       0.70      0.75      0.72       150\n",
      "           R       0.95      0.88      0.92       155\n",
      "\n",
      "    accuracy                           0.79       595\n",
      "   macro avg       0.81      0.78      0.79       595\n",
      "weighted avg       0.81      0.79      0.79       595\n",
      "\n"
     ]
    },
    {
     "data": {
      "text/plain": [
       "(None, None, None)"
      ]
     },
     "execution_count": 210,
     "metadata": {},
     "output_type": "execute_result"
    }
   ],
   "source": [
    "data_type = \"default\"\n",
    "train_df = pd.read_csv(output_path + \"train_{}.csv\".format(data_type))\n",
    "test_df = pd.read_csv(output_path + \"test_{}.csv\".format(data_type))\n",
    "print(train_df.shape, test_df.shape)\n",
    "train_df = shuffle(train_df)\n",
    "test_df = shuffle(test_df)\n",
    "\n",
    "train_X, train_Y = train_df.iloc[:, :-2], train_df.iloc[:, -1]\n",
    "test_X, test_Y = test_df.iloc[:, :-2], test_df.iloc[:, -1]\n",
    "\n",
    "sc = StandardScaler()\n",
    "train_X = sc.fit_transform(train_X)\n",
    "test_X = sc.transform(test_X)\n",
    "\n",
    "regressor = RandomForestClassifier()\n",
    "rf_random = RandomizedSearchCV(estimator = regressor, param_distributions = random_grid, n_iter = 6, cv = 3, verbose=2, \n",
    "                               random_state=42, n_jobs = -1)\n",
    "rf_random.fit(train_X, train_Y)\n",
    "pred_Y = rf_random.predict(test_X)\n",
    "\n",
    "print(rf_random.best_params_)\n",
    "\n",
    "accuracy = metrics.accuracy_score(test_Y, pred_Y)\n",
    "confusion_matrix = metrics.confusion_matrix(test_Y, pred_Y)\n",
    "classification_report = metrics.classification_report(test_Y, pred_Y)\n",
    "\n",
    "print(accuracy), print(confusion_matrix), print(classification_report)"
   ]
  },
  {
   "cell_type": "code",
   "execution_count": 212,
   "id": "070a6518-9e33-47fb-8745-536bc5b99890",
   "metadata": {},
   "outputs": [
    {
     "name": "stdout",
     "output_type": "stream",
     "text": [
      "(1426, 812) (595, 812)\n",
      "Fitting 3 folds for each of 6 candidates, totalling 18 fits\n",
      "{'n_estimators': 207}\n",
      "0.7815126050420168\n",
      "[[118   8  20   4]\n",
      " [ 28  99  12   1]\n",
      " [ 30   3 114   3]\n",
      " [  6   1  14 134]]\n",
      "              precision    recall  f1-score   support\n",
      "\n",
      "           A       0.65      0.79      0.71       150\n",
      "        Arch       0.89      0.71      0.79       140\n",
      "           N       0.71      0.76      0.74       150\n",
      "           R       0.94      0.86      0.90       155\n",
      "\n",
      "    accuracy                           0.78       595\n",
      "   macro avg       0.80      0.78      0.78       595\n",
      "weighted avg       0.80      0.78      0.79       595\n",
      "\n"
     ]
    },
    {
     "data": {
      "text/plain": [
       "(None, None, None)"
      ]
     },
     "execution_count": 212,
     "metadata": {},
     "output_type": "execute_result"
    }
   ],
   "source": [
    "data_type = \"default_9\"\n",
    "train_df = pd.read_csv(output_path + \"train_{}.csv\".format(data_type))\n",
    "test_df = pd.read_csv(output_path + \"test_{}.csv\".format(data_type))\n",
    "print(train_df.shape, test_df.shape)\n",
    "train_df = shuffle(train_df)\n",
    "test_df = shuffle(test_df)\n",
    "\n",
    "train_X, train_Y = train_df.iloc[:, :-2], train_df.iloc[:, -1]\n",
    "test_X, test_Y = test_df.iloc[:, :-2], test_df.iloc[:, -1]\n",
    "\n",
    "sc = StandardScaler()\n",
    "train_X = sc.fit_transform(train_X)\n",
    "test_X = sc.transform(test_X)\n",
    "\n",
    "regressor = RandomForestClassifier()\n",
    "rf_random = RandomizedSearchCV(estimator = regressor, param_distributions = random_grid, n_iter = 6, cv = 3, verbose=2, \n",
    "                               random_state=42, n_jobs = -1)\n",
    "rf_random.fit(train_X, train_Y)\n",
    "pred_Y = rf_random.predict(test_X)\n",
    "print(rf_random.best_params_)\n",
    "\n",
    "\n",
    "accuracy = metrics.accuracy_score(test_Y, pred_Y)\n",
    "confusion_matrix = metrics.confusion_matrix(test_Y, pred_Y)\n",
    "classification_report = metrics.classification_report(test_Y, pred_Y)\n",
    "\n",
    "print(accuracy), print(confusion_matrix), print(classification_report)"
   ]
  },
  {
   "cell_type": "code",
   "execution_count": 215,
   "id": "ae170acc-68a9-4039-b93f-7e734ed9aa98",
   "metadata": {},
   "outputs": [
    {
     "name": "stdout",
     "output_type": "stream",
     "text": [
      "(1426, 758) (595, 758)\n",
      "Fitting 3 folds for each of 7 candidates, totalling 21 fits\n",
      "{'n_estimators': 442}\n",
      "0.7361344537815127\n",
      "[[119   7  15   9]\n",
      " [ 29  82  26   3]\n",
      " [ 30   4 109   7]\n",
      " [ 15   0  12 128]]\n",
      "              precision    recall  f1-score   support\n",
      "\n",
      "           A       0.62      0.79      0.69       150\n",
      "        Arch       0.88      0.59      0.70       140\n",
      "           N       0.67      0.73      0.70       150\n",
      "           R       0.87      0.83      0.85       155\n",
      "\n",
      "    accuracy                           0.74       595\n",
      "   macro avg       0.76      0.73      0.74       595\n",
      "weighted avg       0.76      0.74      0.74       595\n",
      "\n"
     ]
    },
    {
     "data": {
      "text/plain": [
       "(None, None, None)"
      ]
     },
     "execution_count": 215,
     "metadata": {},
     "output_type": "execute_result"
    }
   ],
   "source": [
    "data_type = \"larabk\"\n",
    "train_df = pd.read_csv(output_path + \"train_{}.csv\".format(data_type))\n",
    "test_df = pd.read_csv(output_path + \"test_{}.csv\".format(data_type))\n",
    "print(train_df.shape, test_df.shape)\n",
    "train_df = shuffle(train_df)\n",
    "test_df = shuffle(test_df)\n",
    "\n",
    "train_X, train_Y = train_df.iloc[:, :-2], train_df.iloc[:, -1]\n",
    "test_X, test_Y = test_df.iloc[:, :-2], test_df.iloc[:, -1]\n",
    "\n",
    "random_grid = {'n_estimators': [50, 128, 207, 285, 364, 442, 521, 600, 800, 1000]}\n",
    "\n",
    "regressor = RandomForestClassifier()\n",
    "rf_random = RandomizedSearchCV(estimator = regressor, param_distributions = random_grid, n_iter = 7, cv = 3, verbose=2, \n",
    "                               random_state=42, n_jobs = -1)\n",
    "rf_random.fit(train_X, train_Y)\n",
    "pred_Y = rf_random.predict(test_X)\n",
    "print(rf_random.best_params_)\n",
    "\n",
    "\n",
    "accuracy = metrics.accuracy_score(test_Y, pred_Y)\n",
    "confusion_matrix = metrics.confusion_matrix(test_Y, pred_Y)\n",
    "classification_report = metrics.classification_report(test_Y, pred_Y)\n",
    "\n",
    "print(accuracy), print(confusion_matrix), print(classification_report)"
   ]
  },
  {
   "cell_type": "code",
   "execution_count": 216,
   "id": "51393408-96a5-4c31-a3f2-823012946f29",
   "metadata": {},
   "outputs": [
    {
     "name": "stdout",
     "output_type": "stream",
     "text": [
      "(1426, 506) (595, 506)\n",
      "Fitting 3 folds for each of 7 candidates, totalling 21 fits\n",
      "{'n_estimators': 1000}\n",
      "0.7210084033613445\n",
      "[[108  20  15   7]\n",
      " [ 22  79  36   3]\n",
      " [ 17   7 110  16]\n",
      " [ 10   2  11 132]]\n",
      "              precision    recall  f1-score   support\n",
      "\n",
      "           A       0.69      0.72      0.70       150\n",
      "        Arch       0.73      0.56      0.64       140\n",
      "           N       0.64      0.73      0.68       150\n",
      "           R       0.84      0.85      0.84       155\n",
      "\n",
      "    accuracy                           0.72       595\n",
      "   macro avg       0.72      0.72      0.72       595\n",
      "weighted avg       0.72      0.72      0.72       595\n",
      "\n"
     ]
    },
    {
     "data": {
      "text/plain": [
       "(None, None, None)"
      ]
     },
     "execution_count": 216,
     "metadata": {},
     "output_type": "execute_result"
    }
   ],
   "source": [
    "data_type = \"lara\"\n",
    "train_df = pd.read_csv(output_path + \"train_{}.csv\".format(data_type))\n",
    "test_df = pd.read_csv(output_path + \"test_{}.csv\".format(data_type))\n",
    "print(train_df.shape, test_df.shape)\n",
    "train_df = shuffle(train_df)\n",
    "test_df = shuffle(test_df)\n",
    "\n",
    "train_X, train_Y = train_df.iloc[:, :-2], train_df.iloc[:, -1]\n",
    "test_X, test_Y = test_df.iloc[:, :-2], test_df.iloc[:, -1]\n",
    "\n",
    "random_grid = {'n_estimators': [50, 128, 207, 285, 364, 442, 521, 600, 800, 1000]}\n",
    "\n",
    "regressor = RandomForestClassifier()\n",
    "rf_random = RandomizedSearchCV(estimator = regressor, param_distributions = random_grid, n_iter = 7, cv = 3, verbose=2, \n",
    "                               random_state=42, n_jobs = -1)\n",
    "rf_random.fit(train_X, train_Y)\n",
    "pred_Y = rf_random.predict(test_X)\n",
    "print(rf_random.best_params_)\n",
    "\n",
    "\n",
    "accuracy = metrics.accuracy_score(test_Y, pred_Y)\n",
    "confusion_matrix = metrics.confusion_matrix(test_Y, pred_Y)\n",
    "classification_report = metrics.classification_report(test_Y, pred_Y)\n",
    "\n",
    "print(accuracy), print(confusion_matrix), print(classification_report)"
   ]
  },
  {
   "cell_type": "code",
   "execution_count": 224,
   "id": "0304bcb3-adc9-4171-a545-92b5e17f1e49",
   "metadata": {},
   "outputs": [
    {
     "name": "stdout",
     "output_type": "stream",
     "text": [
      "(1426, 254) (595, 254)\n",
      "Fitting 3 folds for each of 7 candidates, totalling 21 fits\n",
      "{'n_estimators': 600}\n",
      "0.5327731092436975\n",
      "[[86  8 20 36]\n",
      " [43 70 15 12]\n",
      " [34 10 92 14]\n",
      " [63  7 16 69]]\n",
      "              precision    recall  f1-score   support\n",
      "\n",
      "           A       0.38      0.57      0.46       150\n",
      "        Arch       0.74      0.50      0.60       140\n",
      "           N       0.64      0.61      0.63       150\n",
      "           R       0.53      0.45      0.48       155\n",
      "\n",
      "    accuracy                           0.53       595\n",
      "   macro avg       0.57      0.53      0.54       595\n",
      "weighted avg       0.57      0.53      0.54       595\n",
      "\n"
     ]
    },
    {
     "data": {
      "text/plain": [
       "(None, None, None)"
      ]
     },
     "execution_count": 224,
     "metadata": {},
     "output_type": "execute_result"
    }
   ],
   "source": [
    "data_type = \"bk\"\n",
    "train_df = pd.read_csv(output_path + \"train_{}.csv\".format(data_type))\n",
    "test_df = pd.read_csv(output_path + \"test_{}.csv\".format(data_type))\n",
    "print(train_df.shape, test_df.shape)\n",
    "train_df = shuffle(train_df)\n",
    "test_df = shuffle(test_df)\n",
    "\n",
    "train_X, train_Y = train_df.iloc[:, :-2], train_df.iloc[:, -1]\n",
    "test_X, test_Y = test_df.iloc[:, :-2], test_df.iloc[:, -1]\n",
    "\n",
    "random_grid = {'n_estimators': [50, 128, 207, 285, 364, 442, 521, 600, 800, 1000]}\n",
    "\n",
    "regressor = RandomForestClassifier()\n",
    "rf_random = RandomizedSearchCV(estimator = regressor, param_distributions = random_grid, n_iter = 7, cv = 3, verbose=2, \n",
    "                               random_state=42, n_jobs = -1)\n",
    "rf_random.fit(train_X, train_Y)\n",
    "pred_Y = rf_random.predict(test_X)\n",
    "print(rf_random.best_params_)\n",
    "\n",
    "\n",
    "accuracy = metrics.accuracy_score(test_Y, pred_Y)\n",
    "confusion_matrix = metrics.confusion_matrix(test_Y, pred_Y)\n",
    "classification_report = metrics.classification_report(test_Y, pred_Y)\n",
    "\n",
    "print(accuracy), print(confusion_matrix), print(classification_report)"
   ]
  },
  {
   "cell_type": "code",
   "execution_count": 227,
   "id": "0fd38fe0-f41e-4706-8860-c7760cff59c7",
   "metadata": {},
   "outputs": [
    {
     "name": "stdout",
     "output_type": "stream",
     "text": [
      "(1426, 1262) (595, 1262)\n",
      "0.6521008403361345\n",
      "[[ 99  20  30   1]\n",
      " [ 16  87  35   2]\n",
      " [ 40  11  86  13]\n",
      " [  9   1  29 116]]\n",
      "              precision    recall  f1-score   support\n",
      "\n",
      "           A       0.60      0.66      0.63       150\n",
      "        Arch       0.73      0.62      0.67       140\n",
      "           N       0.48      0.57      0.52       150\n",
      "           R       0.88      0.75      0.81       155\n",
      "\n",
      "    accuracy                           0.65       595\n",
      "   macro avg       0.67      0.65      0.66       595\n",
      "weighted avg       0.67      0.65      0.66       595\n",
      "\n"
     ]
    },
    {
     "data": {
      "text/plain": [
       "(None, None, None)"
      ]
     },
     "execution_count": 227,
     "metadata": {},
     "output_type": "execute_result"
    }
   ],
   "source": [
    "data_type = \"default\"\n",
    "train_df = pd.read_csv(output_path + \"train_{}.csv\".format(data_type))\n",
    "test_df = pd.read_csv(output_path + \"test_{}.csv\".format(data_type))\n",
    "print(train_df.shape, test_df.shape)\n",
    "train_df = shuffle(train_df)\n",
    "test_df = shuffle(test_df)\n",
    "\n",
    "train_X, train_Y = train_df.iloc[:, :-2], train_df.iloc[:, -1]\n",
    "test_X, test_Y = test_df.iloc[:, :-2], test_df.iloc[:, -1]\n",
    "\n",
    "# sc = StandardScaler()\n",
    "# train_X = sc.fit_transform(train_X)\n",
    "# test_X = sc.transform(test_X)\n",
    "\n",
    "\n",
    "\n",
    "\n",
    "\n",
    "model = GaussianNB()\n",
    "model.fit(train_X, train_Y)\n",
    "pred_Y = model.predict(test_X)\n",
    "\n",
    "\n",
    "accuracy = metrics.accuracy_score(test_Y, pred_Y)\n",
    "confusion_matrix = metrics.confusion_matrix(test_Y, pred_Y)\n",
    "classification_report = metrics.classification_report(test_Y, pred_Y)\n",
    "\n",
    "print(accuracy), print(confusion_matrix), print(classification_report)\n",
    "\n"
   ]
  },
  {
   "cell_type": "code",
   "execution_count": 255,
   "id": "c28f9c89-8566-4dec-a580-fe8b49f9f1b1",
   "metadata": {},
   "outputs": [
    {
     "name": "stdout",
     "output_type": "stream",
     "text": [
      "(1426, 1262) (595, 1262)\n",
      "0.8369747899159664\n",
      "[[116  11  23   0]\n",
      " [ 16 113  11   0]\n",
      " [ 18   4 125   3]\n",
      " [  6   2   3 144]]\n",
      "              precision    recall  f1-score   support\n",
      "\n",
      "           A       0.74      0.77      0.76       150\n",
      "        Arch       0.87      0.81      0.84       140\n",
      "           N       0.77      0.83      0.80       150\n",
      "           R       0.98      0.93      0.95       155\n",
      "\n",
      "    accuracy                           0.84       595\n",
      "   macro avg       0.84      0.84      0.84       595\n",
      "weighted avg       0.84      0.84      0.84       595\n",
      "\n"
     ]
    },
    {
     "data": {
      "text/plain": [
       "(None, None, None)"
      ]
     },
     "execution_count": 255,
     "metadata": {},
     "output_type": "execute_result"
    }
   ],
   "source": [
    "data_type = \"default\"\n",
    "train_df = pd.read_csv(output_path + \"train_{}.csv\".format(data_type))\n",
    "test_df = pd.read_csv(output_path + \"test_{}.csv\".format(data_type))\n",
    "print(train_df.shape, test_df.shape)\n",
    "train_df = shuffle(train_df)\n",
    "test_df = shuffle(test_df)\n",
    "\n",
    "train_X, train_Y = train_df.iloc[:, :-2], train_df.iloc[:, -1]\n",
    "test_X, test_Y = test_df.iloc[:, :-2], test_df.iloc[:, -1]\n",
    "\n",
    "sc = StandardScaler()\n",
    "train_X = sc.fit_transform(train_X)\n",
    "test_X = sc.transform(test_X)\n",
    "\n",
    "\n",
    "\n",
    "\n",
    "\n",
    "model = svm.SVC(kernel='linear', C=0.001) \n",
    "model.fit(train_X, train_Y)\n",
    "pred_Y = model.predict(test_X)\n",
    "\n",
    "\n",
    "accuracy = metrics.accuracy_score(test_Y, pred_Y)\n",
    "confusion_matrix = metrics.confusion_matrix(test_Y, pred_Y)\n",
    "classification_report = metrics.classification_report(test_Y, pred_Y)\n",
    "\n",
    "print(accuracy), print(confusion_matrix), print(classification_report)\n",
    "\n"
   ]
  },
  {
   "cell_type": "code",
   "execution_count": 294,
   "id": "386b67e3-f8b2-47f1-9866-ee31b81702af",
   "metadata": {},
   "outputs": [
    {
     "name": "stdout",
     "output_type": "stream",
     "text": [
      "(1773, 758) (760, 758)\n",
      "0.6631578947368421\n",
      "[[ 85   9  28  25  13]\n",
      " [  0 137  10   2   1]\n",
      " [ 43   6  91   8   2]\n",
      " [ 20   6  32  91  11]\n",
      " [ 18   1  10  11 100]]\n",
      "              precision    recall  f1-score   support\n",
      "\n",
      "           A       0.51      0.53      0.52       160\n",
      "         Ext       0.86      0.91      0.89       150\n",
      "           N       0.53      0.61      0.57       150\n",
      "           R       0.66      0.57      0.61       160\n",
      "          RB       0.79      0.71      0.75       140\n",
      "\n",
      "    accuracy                           0.66       760\n",
      "   macro avg       0.67      0.67      0.67       760\n",
      "weighted avg       0.67      0.66      0.66       760\n",
      "\n"
     ]
    },
    {
     "data": {
      "text/plain": [
       "(None, None, None)"
      ]
     },
     "execution_count": 294,
     "metadata": {},
     "output_type": "execute_result"
    }
   ],
   "source": [
    "data_type = \"larabk\"\n",
    "output_path = \"/home/ashish/Results/Datasets/Shimmer/Rowing/Manual/103007/\"\n",
    "\n",
    "train_df = pd.read_csv(output_path + \"train_{}.csv\".format(data_type))\n",
    "test_df = pd.read_csv(output_path + \"test_{}.csv\".format(data_type))\n",
    "print(train_df.shape, test_df.shape)\n",
    "train_df = shuffle(train_df)\n",
    "test_df = shuffle(test_df)\n",
    "\n",
    "train_X, train_Y = train_df.iloc[:, :-2], train_df.iloc[:, -1]\n",
    "test_X, test_Y = test_df.iloc[:, :-2], test_df.iloc[:, -1]\n",
    "\n",
    "sc = StandardScaler()\n",
    "train_X = sc.fit_transform(train_X)\n",
    "test_X = sc.transform(test_X)\n",
    "\n",
    "\n",
    "\n",
    "model = LogisticRegression(C=0.001)  #KNeighborsClassifier(n_neighbors=80) \n",
    "model.fit(train_X, train_Y)\n",
    "pred_Y = model.predict(test_X)\n",
    "\n",
    "\n",
    "accuracy = metrics.accuracy_score(test_Y, pred_Y)\n",
    "confusion_matrix = metrics.confusion_matrix(test_Y, pred_Y)\n",
    "classification_report = metrics.classification_report(test_Y, pred_Y)\n",
    "\n",
    "print(accuracy), print(confusion_matrix), print(classification_report)\n",
    "\n"
   ]
  },
  {
   "cell_type": "code",
   "execution_count": 271,
   "id": "eb45c2a8-d51d-421a-93a1-595158630c18",
   "metadata": {},
   "outputs": [
    {
     "name": "stdout",
     "output_type": "stream",
     "text": [
      "0.8352941176470589\n",
      "0.7897526501766784\n",
      "0.8338815789473685\n",
      "0.82 0.021143380575338686\n"
     ]
    }
   ],
   "source": [
    "output_path = \"/home/ashish/Results/Datasets/Shimmer/MP/Manual/{}/\"\n",
    "data_type = \"default\"\n",
    "\n",
    "avg_acc = []\n",
    "for sv in SEED_VALUES:\n",
    "    train_df = pd.read_csv(output_path.format(sv) + \"train_{}.csv\".format(data_type))\n",
    "    test_df = pd.read_csv(output_path.format(sv) + \"test_{}.csv\".format(data_type))\n",
    "    train_df = shuffle(train_df)\n",
    "    test_df = shuffle(test_df)\n",
    "\n",
    "    train_X, train_Y = train_df.iloc[:, :-2], train_df.iloc[:, -1]\n",
    "    test_X, test_Y = test_df.iloc[:, :-2], test_df.iloc[:, -1]\n",
    "\n",
    "    sc = StandardScaler()\n",
    "    train_X = sc.fit_transform(train_X)\n",
    "    test_X = sc.transform(test_X)\n",
    "\n",
    "\n",
    "    model = LogisticRegression(C=0.001, max_iter=150) \n",
    "    model.fit(train_X, train_Y)\n",
    "    pred_Y = model.predict(test_X)\n",
    "\n",
    "\n",
    "    accuracy = metrics.accuracy_score(test_Y, pred_Y)\n",
    "    confusion_matrix = metrics.confusion_matrix(test_Y, pred_Y)\n",
    "    classification_report = metrics.classification_report(test_Y, pred_Y)\n",
    "\n",
    "    print(accuracy) #, print(confusion_matrix), print(classification_report)\n",
    "    avg_acc.append(accuracy)\n",
    "\n",
    "print(round(np.mean(avg_acc),2), np.std(avg_acc))"
   ]
  },
  {
   "cell_type": "code",
   "execution_count": 304,
   "id": "9e5a2884-94bf-406f-b071-0bfa24e0aef2",
   "metadata": {},
   "outputs": [
    {
     "name": "stdout",
     "output_type": "stream",
     "text": [
      "0.7798319327731092\n",
      "0.7879858657243817\n",
      "0.8388157894736842\n",
      "0.8 0.02609653685454943\n"
     ]
    }
   ],
   "source": [
    "output_path = \"/home/ashish/Results/Datasets/Shimmer/MP/Manual/{}/\"\n",
    "data_type = \"default_noscale\"\n",
    "\n",
    "avg_acc = []\n",
    "for sv in SEED_VALUES:\n",
    "    train_df = pd.read_csv(output_path.format(sv) + \"train_{}.csv\".format(data_type))\n",
    "    test_df = pd.read_csv(output_path.format(sv) + \"test_{}.csv\".format(data_type))\n",
    "    train_df = shuffle(train_df)\n",
    "    test_df = shuffle(test_df)\n",
    "\n",
    "    train_X, train_Y = train_df.iloc[:, :-2], train_df.iloc[:, -1]\n",
    "    test_X, test_Y = test_df.iloc[:, :-2], test_df.iloc[:, -1]\n",
    "\n",
    "    sc = StandardScaler()\n",
    "    train_X = sc.fit_transform(train_X)\n",
    "    test_X = sc.transform(test_X)\n",
    "\n",
    "\n",
    "    # regressor = RandomForestClassifier()\n",
    "    # model = RandomizedSearchCV(estimator = regressor, param_distributions = random_grid, n_iter = 7, cv = 3, verbose=2, \n",
    "    #                            random_state=42, n_jobs = -1)\n",
    "    # svm.SVC(kernel='linear', C=0.001)  LogisticRegression(C=0.001, max_iter=150)   KNeighborsClassifier(n_neighbors=40) \n",
    "    model = LogisticRegression(C=0.001, max_iter=150)\n",
    "    model.fit(train_X, train_Y)\n",
    "    pred_Y = model.predict(test_X)\n",
    "\n",
    "\n",
    "    accuracy = metrics.accuracy_score(test_Y, pred_Y)\n",
    "    confusion_matrix = metrics.confusion_matrix(test_Y, pred_Y)\n",
    "    classification_report = metrics.classification_report(test_Y, pred_Y)\n",
    "\n",
    "    print(accuracy) #, print(confusion_matrix), print(classification_report)\n",
    "    avg_acc.append(accuracy)\n",
    "\n",
    "print(round(np.mean(avg_acc),2), np.std(avg_acc))"
   ]
  },
  {
   "cell_type": "code",
   "execution_count": 138,
   "id": "f489f721-9167-41f5-a574-7c4021cb4d63",
   "metadata": {},
   "outputs": [],
   "source": [
    "accuracy = metrics.accuracy_score(test_Y, pred_Y)\n",
    "confusion_matrix = metrics.confusion_matrix(test_Y, pred_Y)\n",
    "classification_report = metrics.classification_report(test_Y, pred_Y)"
   ]
  },
  {
   "cell_type": "code",
   "execution_count": 139,
   "id": "039ef168-b995-4ff9-b767-3b3193d21032",
   "metadata": {},
   "outputs": [
    {
     "name": "stdout",
     "output_type": "stream",
     "text": [
      "0.761344537815126\n",
      "[[105   9  24  12]\n",
      " [ 24 105   2   9]\n",
      " [ 30   1 106  13]\n",
      " [ 11   5   2 137]]\n",
      "              precision    recall  f1-score   support\n",
      "\n",
      "           A       0.62      0.70      0.66       150\n",
      "        Arch       0.88      0.75      0.81       140\n",
      "           N       0.79      0.71      0.75       150\n",
      "           R       0.80      0.88      0.84       155\n",
      "\n",
      "    accuracy                           0.76       595\n",
      "   macro avg       0.77      0.76      0.76       595\n",
      "weighted avg       0.77      0.76      0.76       595\n",
      "\n"
     ]
    },
    {
     "data": {
      "text/plain": [
       "(None, None, None)"
      ]
     },
     "execution_count": 139,
     "metadata": {},
     "output_type": "execute_result"
    }
   ],
   "source": [
    "print(accuracy), print(confusion_matrix), print(classification_report)"
   ]
  },
  {
   "cell_type": "code",
   "execution_count": 305,
   "id": "d8ccbb24-4c59-419a-a9b5-5b0e6df56c5f",
   "metadata": {},
   "outputs": [
    {
     "data": {
      "text/plain": [
       "'/home/ashish/Results/Datasets/Shimmer/MP/Manual/{}/'"
      ]
     },
     "execution_count": 305,
     "metadata": {},
     "output_type": "execute_result"
    }
   ],
   "source": [
    "def generate_cross_val_splits(pid):\n",
    "    "
   ]
  },
  {
   "cell_type": "code",
   "execution_count": 313,
   "id": "ef514201-0701-416c-9d3d-2d4c6431746a",
   "metadata": {},
   "outputs": [
    {
     "name": "stdout",
     "output_type": "stream",
     "text": [
      "(1426, 506) (595, 506) (2021, 506)\n",
      "52\n"
     ]
    }
   ],
   "source": [
    "\n",
    "\n",
    "\n",
    "print(len(unique_pids))"
   ]
  },
  {
   "cell_type": "code",
   "execution_count": 336,
   "id": "e2c123c6-8c90-4297-b0c7-cd4d79c3f499",
   "metadata": {},
   "outputs": [],
   "source": [
    "def generate_cross_val_splits(pid):\n",
    "    second_last_col = full_df.columns[-2]\n",
    "    pid_excl_df = full_df[full_df[second_last_col]!=pid]\n",
    "    pid_incl_df = full_df[full_df[second_last_col]==pid]\n",
    "        \n",
    "    train_X, train_Y = pid_excl_df.iloc[:, :-2], pid_excl_df.iloc[:, -1]\n",
    "    test_X, test_Y = pid_incl_df.iloc[:, :-2], pid_incl_df.iloc[:, -1]\n",
    "    \n",
    "    return train_X, train_Y, test_X, test_Y"
   ]
  },
  {
   "cell_type": "code",
   "execution_count": 328,
   "id": "bcc964b9-8316-44c5-8569-ad556572ac0b",
   "metadata": {},
   "outputs": [
    {
     "name": "stdout",
     "output_type": "stream",
     "text": [
      "(1426, 1262) (595, 1262) (2021, 1262)\n"
     ]
    }
   ],
   "source": [
    "print(train_df.shape, test_df.shape, full_df.shape)\n"
   ]
  },
  {
   "cell_type": "code",
   "execution_count": 330,
   "id": "8d88f755-6c3b-49dc-91f7-6a402c47281c",
   "metadata": {},
   "outputs": [
    {
     "data": {
      "text/plain": [
       "(2021, 1262)"
      ]
     },
     "execution_count": 330,
     "metadata": {},
     "output_type": "execute_result"
    }
   ],
   "source": [
    "pid_excl_df = full_df[full_df[\"504\"]!=\"P10\"]\n",
    "pid_excl_df.shape"
   ]
  },
  {
   "cell_type": "code",
   "execution_count": 331,
   "id": "947ee7ca-0bd2-4a16-b502-42404c791e09",
   "metadata": {},
   "outputs": [
    {
     "data": {
      "text/html": [
       "<div>\n",
       "<style scoped>\n",
       "    .dataframe tbody tr th:only-of-type {\n",
       "        vertical-align: middle;\n",
       "    }\n",
       "\n",
       "    .dataframe tbody tr th {\n",
       "        vertical-align: top;\n",
       "    }\n",
       "\n",
       "    .dataframe thead th {\n",
       "        text-align: right;\n",
       "    }\n",
       "</style>\n",
       "<table border=\"1\" class=\"dataframe\">\n",
       "  <thead>\n",
       "    <tr style=\"text-align: right;\">\n",
       "      <th></th>\n",
       "      <th>0</th>\n",
       "      <th>1</th>\n",
       "      <th>2</th>\n",
       "      <th>3</th>\n",
       "      <th>4</th>\n",
       "      <th>5</th>\n",
       "      <th>6</th>\n",
       "      <th>7</th>\n",
       "      <th>8</th>\n",
       "      <th>9</th>\n",
       "      <th>...</th>\n",
       "      <th>1252</th>\n",
       "      <th>1253</th>\n",
       "      <th>1254</th>\n",
       "      <th>1255</th>\n",
       "      <th>1256</th>\n",
       "      <th>1257</th>\n",
       "      <th>1258</th>\n",
       "      <th>1259</th>\n",
       "      <th>1260</th>\n",
       "      <th>1261</th>\n",
       "    </tr>\n",
       "  </thead>\n",
       "  <tbody>\n",
       "    <tr>\n",
       "      <th>531</th>\n",
       "      <td>18</td>\n",
       "      <td>6.577275</td>\n",
       "      <td>8.371956</td>\n",
       "      <td>12.015875</td>\n",
       "      <td>10.117646</td>\n",
       "      <td>10.245446</td>\n",
       "      <td>2.431676</td>\n",
       "      <td>5.913048</td>\n",
       "      <td>10.245446</td>\n",
       "      <td>4.966917</td>\n",
       "      <td>...</td>\n",
       "      <td>0.868024</td>\n",
       "      <td>0.116749</td>\n",
       "      <td>-0.910637</td>\n",
       "      <td>-0.687159</td>\n",
       "      <td>0.002679</td>\n",
       "      <td>3.430844e-08</td>\n",
       "      <td>1.011363</td>\n",
       "      <td>0.681418</td>\n",
       "      <td>P10</td>\n",
       "      <td>N</td>\n",
       "    </tr>\n",
       "    <tr>\n",
       "      <th>466</th>\n",
       "      <td>20</td>\n",
       "      <td>8.793942</td>\n",
       "      <td>9.062770</td>\n",
       "      <td>9.723990</td>\n",
       "      <td>9.350636</td>\n",
       "      <td>9.467738</td>\n",
       "      <td>0.605215</td>\n",
       "      <td>0.366285</td>\n",
       "      <td>9.467738</td>\n",
       "      <td>8.008791</td>\n",
       "      <td>...</td>\n",
       "      <td>0.853918</td>\n",
       "      <td>0.052386</td>\n",
       "      <td>1.118411</td>\n",
       "      <td>-1.159124</td>\n",
       "      <td>0.000313</td>\n",
       "      <td>1.204017e-07</td>\n",
       "      <td>1.019061</td>\n",
       "      <td>0.700337</td>\n",
       "      <td>P37</td>\n",
       "      <td>R</td>\n",
       "    </tr>\n",
       "    <tr>\n",
       "      <th>91</th>\n",
       "      <td>22</td>\n",
       "      <td>8.743281</td>\n",
       "      <td>9.282771</td>\n",
       "      <td>10.570614</td>\n",
       "      <td>9.930723</td>\n",
       "      <td>9.908146</td>\n",
       "      <td>0.782619</td>\n",
       "      <td>0.612493</td>\n",
       "      <td>9.908146</td>\n",
       "      <td>8.314539</td>\n",
       "      <td>...</td>\n",
       "      <td>0.825022</td>\n",
       "      <td>0.037539</td>\n",
       "      <td>-1.348771</td>\n",
       "      <td>-0.385153</td>\n",
       "      <td>0.000220</td>\n",
       "      <td>3.242991e-07</td>\n",
       "      <td>1.022837</td>\n",
       "      <td>0.653965</td>\n",
       "      <td>P19</td>\n",
       "      <td>A</td>\n",
       "    </tr>\n",
       "    <tr>\n",
       "      <th>126</th>\n",
       "      <td>26</td>\n",
       "      <td>7.782738</td>\n",
       "      <td>8.911906</td>\n",
       "      <td>10.673242</td>\n",
       "      <td>9.978836</td>\n",
       "      <td>9.810669</td>\n",
       "      <td>1.171943</td>\n",
       "      <td>1.373450</td>\n",
       "      <td>9.810669</td>\n",
       "      <td>6.992861</td>\n",
       "      <td>...</td>\n",
       "      <td>1.040538</td>\n",
       "      <td>0.154117</td>\n",
       "      <td>-1.483770</td>\n",
       "      <td>-0.352908</td>\n",
       "      <td>0.006161</td>\n",
       "      <td>7.850378e-07</td>\n",
       "      <td>1.020415</td>\n",
       "      <td>0.952686</td>\n",
       "      <td>P22</td>\n",
       "      <td>R</td>\n",
       "    </tr>\n",
       "    <tr>\n",
       "      <th>225</th>\n",
       "      <td>22</td>\n",
       "      <td>8.866331</td>\n",
       "      <td>9.351444</td>\n",
       "      <td>10.532357</td>\n",
       "      <td>9.975083</td>\n",
       "      <td>9.953648</td>\n",
       "      <td>0.699158</td>\n",
       "      <td>0.488822</td>\n",
       "      <td>9.953648</td>\n",
       "      <td>8.123906</td>\n",
       "      <td>...</td>\n",
       "      <td>0.970492</td>\n",
       "      <td>0.192694</td>\n",
       "      <td>-1.296100</td>\n",
       "      <td>0.523335</td>\n",
       "      <td>0.009480</td>\n",
       "      <td>8.799055e-07</td>\n",
       "      <td>1.019061</td>\n",
       "      <td>0.731958</td>\n",
       "      <td>P31</td>\n",
       "      <td>Arch</td>\n",
       "    </tr>\n",
       "  </tbody>\n",
       "</table>\n",
       "<p>5 rows × 1262 columns</p>\n",
       "</div>"
      ],
      "text/plain": [
       "      0         1         2          3          4          5         6  \\\n",
       "531  18  6.577275  8.371956  12.015875  10.117646  10.245446  2.431676   \n",
       "466  20  8.793942  9.062770   9.723990   9.350636   9.467738  0.605215   \n",
       "91   22  8.743281  9.282771  10.570614   9.930723   9.908146  0.782619   \n",
       "126  26  7.782738  8.911906  10.673242   9.978836   9.810669  1.171943   \n",
       "225  22  8.866331  9.351444  10.532357   9.975083   9.953648  0.699158   \n",
       "\n",
       "            7          8         9  ...      1252      1253      1254  \\\n",
       "531  5.913048  10.245446  4.966917  ...  0.868024  0.116749 -0.910637   \n",
       "466  0.366285   9.467738  8.008791  ...  0.853918  0.052386  1.118411   \n",
       "91   0.612493   9.908146  8.314539  ...  0.825022  0.037539 -1.348771   \n",
       "126  1.373450   9.810669  6.992861  ...  1.040538  0.154117 -1.483770   \n",
       "225  0.488822   9.953648  8.123906  ...  0.970492  0.192694 -1.296100   \n",
       "\n",
       "         1255      1256          1257      1258      1259  1260  1261  \n",
       "531 -0.687159  0.002679  3.430844e-08  1.011363  0.681418   P10     N  \n",
       "466 -1.159124  0.000313  1.204017e-07  1.019061  0.700337   P37     R  \n",
       "91  -0.385153  0.000220  3.242991e-07  1.022837  0.653965   P19     A  \n",
       "126 -0.352908  0.006161  7.850378e-07  1.020415  0.952686   P22     R  \n",
       "225  0.523335  0.009480  8.799055e-07  1.019061  0.731958   P31  Arch  \n",
       "\n",
       "[5 rows x 1262 columns]"
      ]
     },
     "execution_count": 331,
     "metadata": {},
     "output_type": "execute_result"
    }
   ],
   "source": [
    "pid_excl_df.head()"
   ]
  },
  {
   "cell_type": "code",
   "execution_count": 339,
   "id": "11af400f-f021-4b58-aa67-c044b6eb074a",
   "metadata": {},
   "outputs": [
    {
     "name": "stderr",
     "output_type": "stream",
     "text": [
      "INFO:__main__:The pid: P10 \n",
      "INFO:__main__:Training shape: (2483, 1260) (2483,)\n",
      "INFO:__main__:Testing shape: (50, 1260) (50,)\n"
     ]
    },
    {
     "name": "stdout",
     "output_type": "stream",
     "text": [
      "(1773, 1262) (760, 1262) (2533, 1262)\n"
     ]
    },
    {
     "name": "stderr",
     "output_type": "stream",
     "text": [
      "INFO:__main__:The accuracy: 0.92 \n",
      "INFO:__main__:The pid: P11 \n",
      "INFO:__main__:Training shape: (2483, 1260) (2483,)\n",
      "INFO:__main__:Testing shape: (50, 1260) (50,)\n",
      "INFO:__main__:The accuracy: 0.68 \n",
      "INFO:__main__:The pid: P12 \n",
      "INFO:__main__:Training shape: (2481, 1260) (2481,)\n",
      "INFO:__main__:Testing shape: (52, 1260) (52,)\n",
      "INFO:__main__:The accuracy: 0.7115384615384616 \n",
      "INFO:__main__:The pid: P13 \n",
      "INFO:__main__:Training shape: (2483, 1260) (2483,)\n",
      "INFO:__main__:Testing shape: (50, 1260) (50,)\n",
      "INFO:__main__:The accuracy: 0.96 \n",
      "INFO:__main__:The pid: P14 \n",
      "INFO:__main__:Training shape: (2483, 1260) (2483,)\n",
      "INFO:__main__:Testing shape: (50, 1260) (50,)\n",
      "INFO:__main__:The accuracy: 0.86 \n",
      "INFO:__main__:The pid: P15 \n",
      "INFO:__main__:Training shape: (2493, 1260) (2493,)\n",
      "INFO:__main__:Testing shape: (40, 1260) (40,)\n",
      "INFO:__main__:The accuracy: 0.675 \n",
      "INFO:__main__:The pid: P16 \n",
      "INFO:__main__:Training shape: (2483, 1260) (2483,)\n",
      "INFO:__main__:Testing shape: (50, 1260) (50,)\n",
      "INFO:__main__:The accuracy: 0.82 \n",
      "INFO:__main__:The pid: P17 \n",
      "INFO:__main__:Training shape: (2483, 1260) (2483,)\n",
      "INFO:__main__:Testing shape: (50, 1260) (50,)\n",
      "INFO:__main__:The accuracy: 0.2 \n",
      "INFO:__main__:The pid: P18 \n",
      "INFO:__main__:Training shape: (2483, 1260) (2483,)\n",
      "INFO:__main__:Testing shape: (50, 1260) (50,)\n",
      "INFO:__main__:The accuracy: 0.7 \n",
      "INFO:__main__:The pid: P19 \n",
      "INFO:__main__:Training shape: (2483, 1260) (2483,)\n",
      "INFO:__main__:Testing shape: (50, 1260) (50,)\n",
      "INFO:__main__:The accuracy: 0.8 \n",
      "INFO:__main__:The pid: P2 \n",
      "INFO:__main__:Training shape: (2493, 1260) (2493,)\n",
      "INFO:__main__:Testing shape: (40, 1260) (40,)\n",
      "INFO:__main__:The accuracy: 0.275 \n",
      "INFO:__main__:The pid: P20 \n",
      "INFO:__main__:Training shape: (2483, 1260) (2483,)\n",
      "INFO:__main__:Testing shape: (50, 1260) (50,)\n",
      "INFO:__main__:The accuracy: 0.78 \n",
      "INFO:__main__:The pid: P21 \n",
      "INFO:__main__:Training shape: (2483, 1260) (2483,)\n",
      "INFO:__main__:Testing shape: (50, 1260) (50,)\n",
      "INFO:__main__:The accuracy: 0.94 \n",
      "INFO:__main__:The pid: P22 \n",
      "INFO:__main__:Training shape: (2483, 1260) (2483,)\n",
      "INFO:__main__:Testing shape: (50, 1260) (50,)\n",
      "INFO:__main__:The accuracy: 0.68 \n",
      "INFO:__main__:The pid: P23 \n",
      "INFO:__main__:Training shape: (2483, 1260) (2483,)\n",
      "INFO:__main__:Testing shape: (50, 1260) (50,)\n",
      "INFO:__main__:The accuracy: 0.5 \n",
      "INFO:__main__:The pid: P24 \n",
      "INFO:__main__:Training shape: (2493, 1260) (2493,)\n",
      "INFO:__main__:Testing shape: (40, 1260) (40,)\n",
      "INFO:__main__:The accuracy: 0.65 \n",
      "INFO:__main__:The pid: P25 \n",
      "INFO:__main__:Training shape: (2483, 1260) (2483,)\n",
      "INFO:__main__:Testing shape: (50, 1260) (50,)\n",
      "INFO:__main__:The accuracy: 0.82 \n",
      "INFO:__main__:The pid: P26 \n",
      "INFO:__main__:Training shape: (2483, 1260) (2483,)\n",
      "INFO:__main__:Testing shape: (50, 1260) (50,)\n",
      "INFO:__main__:The accuracy: 0.74 \n",
      "INFO:__main__:The pid: P27 \n",
      "INFO:__main__:Training shape: (2493, 1260) (2493,)\n",
      "INFO:__main__:Testing shape: (40, 1260) (40,)\n",
      "INFO:__main__:The accuracy: 0.5 \n",
      "INFO:__main__:The pid: P28 \n",
      "INFO:__main__:Training shape: (2483, 1260) (2483,)\n",
      "INFO:__main__:Testing shape: (50, 1260) (50,)\n",
      "INFO:__main__:The accuracy: 0.64 \n",
      "INFO:__main__:The pid: P29 \n",
      "INFO:__main__:Training shape: (2483, 1260) (2483,)\n",
      "INFO:__main__:Testing shape: (50, 1260) (50,)\n",
      "INFO:__main__:The accuracy: 0.84 \n",
      "INFO:__main__:The pid: P3 \n",
      "INFO:__main__:Training shape: (2493, 1260) (2493,)\n",
      "INFO:__main__:Testing shape: (40, 1260) (40,)\n",
      "INFO:__main__:The accuracy: 0.675 \n",
      "INFO:__main__:The pid: P30 \n",
      "INFO:__main__:Training shape: (2483, 1260) (2483,)\n",
      "INFO:__main__:Testing shape: (50, 1260) (50,)\n",
      "INFO:__main__:The accuracy: 0.72 \n",
      "INFO:__main__:The pid: P31 \n",
      "INFO:__main__:Training shape: (2483, 1260) (2483,)\n",
      "INFO:__main__:Testing shape: (50, 1260) (50,)\n",
      "INFO:__main__:The accuracy: 0.8 \n",
      "INFO:__main__:The pid: P32 \n",
      "INFO:__main__:Training shape: (2483, 1260) (2483,)\n",
      "INFO:__main__:Testing shape: (50, 1260) (50,)\n",
      "INFO:__main__:The accuracy: 0.66 \n",
      "INFO:__main__:The pid: P33 \n",
      "INFO:__main__:Training shape: (2483, 1260) (2483,)\n",
      "INFO:__main__:Testing shape: (50, 1260) (50,)\n",
      "INFO:__main__:The accuracy: 0.68 \n",
      "INFO:__main__:The pid: P34 \n",
      "INFO:__main__:Training shape: (2483, 1260) (2483,)\n",
      "INFO:__main__:Testing shape: (50, 1260) (50,)\n",
      "INFO:__main__:The accuracy: 0.82 \n",
      "INFO:__main__:The pid: P35 \n",
      "INFO:__main__:Training shape: (2493, 1260) (2493,)\n",
      "INFO:__main__:Testing shape: (40, 1260) (40,)\n",
      "INFO:__main__:The accuracy: 0.775 \n",
      "INFO:__main__:The pid: P36 \n",
      "INFO:__main__:Training shape: (2483, 1260) (2483,)\n",
      "INFO:__main__:Testing shape: (50, 1260) (50,)\n",
      "INFO:__main__:The accuracy: 0.76 \n",
      "INFO:__main__:The pid: P37 \n",
      "INFO:__main__:Training shape: (2483, 1260) (2483,)\n",
      "INFO:__main__:Testing shape: (50, 1260) (50,)\n",
      "INFO:__main__:The accuracy: 0.9 \n",
      "INFO:__main__:The pid: P38 \n",
      "INFO:__main__:Training shape: (2483, 1260) (2483,)\n",
      "INFO:__main__:Testing shape: (50, 1260) (50,)\n",
      "INFO:__main__:The accuracy: 0.34 \n",
      "INFO:__main__:The pid: P39 \n",
      "INFO:__main__:Training shape: (2493, 1260) (2493,)\n",
      "INFO:__main__:Testing shape: (40, 1260) (40,)\n",
      "INFO:__main__:The accuracy: 0.875 \n",
      "INFO:__main__:The pid: P4 \n",
      "INFO:__main__:Training shape: (2493, 1260) (2493,)\n",
      "INFO:__main__:Testing shape: (40, 1260) (40,)\n",
      "INFO:__main__:The accuracy: 0.975 \n",
      "INFO:__main__:The pid: P40 \n",
      "INFO:__main__:Training shape: (2483, 1260) (2483,)\n",
      "INFO:__main__:Testing shape: (50, 1260) (50,)\n",
      "INFO:__main__:The accuracy: 1.0 \n",
      "INFO:__main__:The pid: P41 \n",
      "INFO:__main__:Training shape: (2483, 1260) (2483,)\n",
      "INFO:__main__:Testing shape: (50, 1260) (50,)\n",
      "INFO:__main__:The accuracy: 0.98 \n",
      "INFO:__main__:The pid: P42 \n",
      "INFO:__main__:Training shape: (2483, 1260) (2483,)\n",
      "INFO:__main__:Testing shape: (50, 1260) (50,)\n",
      "INFO:__main__:The accuracy: 0.84 \n",
      "INFO:__main__:The pid: P43 \n",
      "INFO:__main__:Training shape: (2523, 1260) (2523,)\n",
      "INFO:__main__:Testing shape: (10, 1260) (10,)\n",
      "INFO:__main__:The accuracy: 0.0 \n",
      "INFO:__main__:The pid: P44 \n",
      "INFO:__main__:Training shape: (2483, 1260) (2483,)\n",
      "INFO:__main__:Testing shape: (50, 1260) (50,)\n",
      "INFO:__main__:The accuracy: 0.9 \n",
      "INFO:__main__:The pid: P45 \n",
      "INFO:__main__:Training shape: (2493, 1260) (2493,)\n",
      "INFO:__main__:Testing shape: (40, 1260) (40,)\n",
      "INFO:__main__:The accuracy: 0.7 \n",
      "INFO:__main__:The pid: P46 \n",
      "INFO:__main__:Training shape: (2483, 1260) (2483,)\n",
      "INFO:__main__:Testing shape: (50, 1260) (50,)\n",
      "INFO:__main__:The accuracy: 0.88 \n",
      "INFO:__main__:The pid: P47 \n",
      "INFO:__main__:Training shape: (2483, 1260) (2483,)\n",
      "INFO:__main__:Testing shape: (50, 1260) (50,)\n",
      "INFO:__main__:The accuracy: 0.6 \n",
      "INFO:__main__:The pid: P48 \n",
      "INFO:__main__:Training shape: (2483, 1260) (2483,)\n",
      "INFO:__main__:Testing shape: (50, 1260) (50,)\n",
      "INFO:__main__:The accuracy: 0.92 \n",
      "INFO:__main__:The pid: P49 \n",
      "INFO:__main__:Training shape: (2483, 1260) (2483,)\n",
      "INFO:__main__:Testing shape: (50, 1260) (50,)\n",
      "INFO:__main__:The accuracy: 0.54 \n",
      "INFO:__main__:The pid: P5 \n",
      "INFO:__main__:Training shape: (2493, 1260) (2493,)\n",
      "INFO:__main__:Testing shape: (40, 1260) (40,)\n",
      "INFO:__main__:The accuracy: 0.65 \n",
      "INFO:__main__:The pid: P50 \n",
      "INFO:__main__:Training shape: (2493, 1260) (2493,)\n",
      "INFO:__main__:Testing shape: (40, 1260) (40,)\n",
      "INFO:__main__:The accuracy: 0.6 \n",
      "INFO:__main__:The pid: P51 \n",
      "INFO:__main__:Training shape: (2483, 1260) (2483,)\n",
      "INFO:__main__:Testing shape: (50, 1260) (50,)\n",
      "INFO:__main__:The accuracy: 0.8 \n",
      "INFO:__main__:The pid: P52 \n",
      "INFO:__main__:Training shape: (2493, 1260) (2493,)\n",
      "INFO:__main__:Testing shape: (40, 1260) (40,)\n",
      "INFO:__main__:The accuracy: 0.675 \n",
      "INFO:__main__:The pid: P53 \n",
      "INFO:__main__:Training shape: (2483, 1260) (2483,)\n",
      "INFO:__main__:Testing shape: (50, 1260) (50,)\n",
      "INFO:__main__:The accuracy: 0.72 \n",
      "INFO:__main__:The pid: P54 \n",
      "INFO:__main__:Training shape: (2482, 1260) (2482,)\n",
      "INFO:__main__:Testing shape: (51, 1260) (51,)\n",
      "INFO:__main__:The accuracy: 0.9607843137254902 \n",
      "INFO:__main__:The pid: P55 \n",
      "INFO:__main__:Training shape: (2483, 1260) (2483,)\n",
      "INFO:__main__:Testing shape: (50, 1260) (50,)\n",
      "INFO:__main__:The accuracy: 0.82 \n",
      "INFO:__main__:The pid: P6 \n",
      "INFO:__main__:Training shape: (2493, 1260) (2493,)\n",
      "INFO:__main__:Testing shape: (40, 1260) (40,)\n",
      "INFO:__main__:The accuracy: 0.45 \n",
      "INFO:__main__:The pid: P7 \n",
      "INFO:__main__:Training shape: (2483, 1260) (2483,)\n",
      "INFO:__main__:Testing shape: (50, 1260) (50,)\n",
      "INFO:__main__:The accuracy: 0.78 \n",
      "INFO:__main__:The pid: P8 \n",
      "INFO:__main__:Training shape: (2483, 1260) (2483,)\n",
      "INFO:__main__:Testing shape: (50, 1260) (50,)\n",
      "INFO:__main__:The accuracy: 0.7 \n",
      "INFO:__main__:The pid: P9 \n",
      "INFO:__main__:Training shape: (2483, 1260) (2483,)\n",
      "INFO:__main__:Testing shape: (50, 1260) (50,)\n",
      "INFO:__main__:The accuracy: 0.96 \n",
      "INFO:__main__:The average accuracy: 0.7249504217641474 std: 0.19905333004390557\n"
     ]
    }
   ],
   "source": [
    "data_type = \"default_noscale\"\n",
    "output_path = '/home/ashish/Results/Datasets/Shimmer/Rowing/Manual/103007/'\n",
    "train_df = pd.read_csv(output_path + \"train_{}.csv\".format(data_type))\n",
    "test_df = pd.read_csv(output_path + \"test_{}.csv\".format(data_type))\n",
    "\n",
    "\n",
    "full_df = pd.concat([train_df, test_df], axis=0)\n",
    "\n",
    "# train_df = shuffle(train_df)\n",
    "# test_df = shuffle(test_df)\n",
    "full_df = shuffle(full_df)\n",
    "\n",
    "print(train_df.shape, test_df.shape, full_df.shape)\n",
    "\n",
    "\n",
    "scores = []\n",
    "accuracy_scores_mapping = {\"pid\": [], \"score\": []}\n",
    "\n",
    "\n",
    "model = LogisticRegression(C=0.001, max_iter=150)\n",
    "\n",
    "unique_pids = list(np.unique(full_df.iloc[:, -2]))\n",
    "\n",
    "for pid in unique_pids:\n",
    "    logger.info(\"The pid: {} \".format(pid))\n",
    "    accuracy_scores_mapping[\"pid\"].append(pid)\n",
    "    train_X, train_Y, test_X, test_Y = generate_cross_val_splits(pid)\n",
    "    logger.info(\"Training shape: {} {}\".format(train_X.shape, train_Y.shape))\n",
    "    logger.info(\"Testing shape: {} {}\".format(test_X.shape, test_Y.shape))\n",
    "    \n",
    "    sc = StandardScaler()\n",
    "    train_X = sc.fit_transform(train_X)\n",
    "    test_X = sc.transform(test_X)\n",
    "\n",
    "    model.fit(train_X, train_Y)\n",
    "\n",
    "    pred_Y = model.predict(test_X)\n",
    "    accuracy = metrics.accuracy_score(test_Y, pred_Y)\n",
    "    \n",
    "    scores.append(accuracy)\n",
    "    accuracy_scores_mapping[\"score\"].append(accuracy)\n",
    "    logger.info(\"The accuracy: {} \".format(accuracy))\n",
    "accuracy_scores_mapping_df = pd.DataFrame(accuracy_scores_mapping)\n",
    "accuracy_scores_mapping_df.to_csv(\"/tmp/accuracy_cross_val_shimmer_mp_manual.csv\", index=False)\n",
    "logger.info(\"The average accuracy: {} std: {}\".format(np.mean(scores), np.std(scores)))"
   ]
  },
  {
   "cell_type": "code",
   "execution_count": 142,
   "id": "c3a608e9-9512-4c9d-8128-12ab0f9cca3c",
   "metadata": {},
   "outputs": [],
   "source": [
    "sc = StandardScaler()\n",
    "train_X = sc.fit_transform(train_X)\n",
    "test_X = sc.transform(test_X)"
   ]
  },
  {
   "cell_type": "code",
   "execution_count": 144,
   "id": "cc598506-49a0-470c-89d6-da8eee85f838",
   "metadata": {},
   "outputs": [
    {
     "name": "stdout",
     "output_type": "stream",
     "text": [
      "0.773109243697479\n",
      "[[105  13  21  11]\n",
      " [ 25 104   2   9]\n",
      " [ 26   1 112  11]\n",
      " [  7   6   3 139]]\n",
      "              precision    recall  f1-score   support\n",
      "\n",
      "           A       0.64      0.70      0.67       150\n",
      "        Arch       0.84      0.74      0.79       140\n",
      "           N       0.81      0.75      0.78       150\n",
      "           R       0.82      0.90      0.86       155\n",
      "\n",
      "    accuracy                           0.77       595\n",
      "   macro avg       0.78      0.77      0.77       595\n",
      "weighted avg       0.78      0.77      0.77       595\n",
      "\n"
     ]
    },
    {
     "data": {
      "text/plain": [
       "(None, None, None)"
      ]
     },
     "execution_count": 144,
     "metadata": {},
     "output_type": "execute_result"
    }
   ],
   "source": [
    "regressor = RandomForestClassifier(random_state=0)\n",
    "regressor.fit(train_X, train_Y)\n",
    "pred_Y = regressor.predict(test_X)\n",
    "accuracy = metrics.accuracy_score(test_Y, pred_Y)\n",
    "confusion_matrix = metrics.confusion_matrix(test_Y, pred_Y)\n",
    "classification_report = metrics.classification_report(test_Y, pred_Y)\n",
    "print(accuracy), print(confusion_matrix), print(classification_report)"
   ]
  },
  {
   "cell_type": "code",
   "execution_count": 145,
   "id": "06f0b770-e45d-4c01-acf1-cbf983bd5a5d",
   "metadata": {},
   "outputs": [
    {
     "name": "stdout",
     "output_type": "stream",
     "text": [
      "0.7680672268907563\n",
      "[[112   7  19  12]\n",
      " [ 25 105   1   9]\n",
      " [ 32   1 104  13]\n",
      " [ 11   6   2 136]]\n",
      "              precision    recall  f1-score   support\n",
      "\n",
      "           A       0.62      0.75      0.68       150\n",
      "        Arch       0.88      0.75      0.81       140\n",
      "           N       0.83      0.69      0.75       150\n",
      "           R       0.80      0.88      0.84       155\n",
      "\n",
      "    accuracy                           0.77       595\n",
      "   macro avg       0.78      0.77      0.77       595\n",
      "weighted avg       0.78      0.77      0.77       595\n",
      "\n"
     ]
    },
    {
     "data": {
      "text/plain": [
       "(None, None, None)"
      ]
     },
     "execution_count": 145,
     "metadata": {},
     "output_type": "execute_result"
    }
   ],
   "source": [
    "regressor = RandomForestClassifier(n_estimators=400, random_state=0)\n",
    "regressor.fit(train_X, train_Y)\n",
    "pred_Y = regressor.predict(test_X)\n",
    "accuracy = metrics.accuracy_score(test_Y, pred_Y)\n",
    "confusion_matrix = metrics.confusion_matrix(test_Y, pred_Y)\n",
    "classification_report = metrics.classification_report(test_Y, pred_Y)\n",
    "print(accuracy), print(confusion_matrix), print(classification_report)"
   ]
  },
  {
   "cell_type": "code",
   "execution_count": 151,
   "id": "622a4c8d-ac36-46a2-8d52-7ef17354eeb2",
   "metadata": {},
   "outputs": [],
   "source": [
    "c = ['B8C7_Accel_Magnitude', 'B8C7_Gyro_Magnitude', 'B8C7_pitch', 'B8C7_roll', 'B8C7_yaw', 'B8E3_Accel_Magnitude', 'B8E3_Gyro_Magnitude', 'B8E3_Waist_Accel_LN_X', 'B8E3_Waist_Accel_LN_Y', 'B8E3_Waist_Accel_LN_Z', 'B8E3_Waist_Gyro_X', 'B8E3_Waist_Gyro_Y', 'B8E3_Waist_Gyro_Z', 'B8E3_Waist_Mag_X', 'B8E3_Waist_Mag_Y', 'B8E3_Waist_Mag_Z', 'B8E3_pitch', 'B8E3_roll', 'B8E3_yaw', 'S548D_Accel_Magnitude', 'S548D_Gyro_Magnitude', 'S548D_Left_Accel_LN_X', 'S548D_Left_Accel_LN_Y', 'S548D_Left_Accel_LN_Z', 'S548D_Left_Gyro_X', 'S548D_Left_Gyro_Y', 'S548D_Left_Gyro_Z', 'S548D_Left_Mag_X', 'S548D_Left_Mag_Y', 'S548D_Left_Mag_Z', 'S548D_pitch', 'S548D_roll', 'S548D_yaw', 'S57D0Waist_Accel_LN_X', 'S57D0Waist_Accel_LN_Y', 'S57D0Waist_Accel_LN_Z', 'S57D0Waist_Gyro_X', 'S57D0Waist_Gyro_Y', 'S57D0Waist_Gyro_Z', 'S57D0Waist_Mag_X', 'S57D0Waist_Mag_Y', 'S57D0Waist_Mag_Z', 'S57D0_Accel_Magnitude', 'S57D0_Gyro_Magnitude', 'S57D0_pitch', 'S57D0_roll', 'S57D0_yaw', 'S9276_Accel_LN_X', 'S9276_Accel_LN_Y', 'S9276_Accel_LN_Z', 'S9276_Accel_Magnitude', 'S9276_Gyro_Magnitude', 'S9276_Gyro_X', 'S9276_Gyro_Y', 'S9276_Gyro_Z', 'S9276_Mag_X', 'S9276_Mag_Y', 'S9276_Mag_Z', 'S9276_pitch', 'S9276_roll', 'S9276_yaw', 'Shimmer_B8C7_Accel_LN_X', 'Shimmer_B8C7_Accel_LN_Y', 'Shimmer_B8C7_Accel_LN_Z', 'Shimmer_B8C7_Gyro_X', 'Shimmer_B8C7_Gyro_Y', 'Shimmer_B8C7_Gyro_Z', 'Shimmer_B8C7_Mag_X', 'Shimmer_B8C7_Mag_Y', 'Shimmer_B8C7_Mag_Z']\n"
   ]
  },
  {
   "cell_type": "code",
   "execution_count": 154,
   "id": "1f06197a-76c9-4871-9234-1f2a58cc6bb1",
   "metadata": {},
   "outputs": [
    {
     "data": {
      "text/plain": [
       "'B8C7_Mag_Z'"
      ]
     },
     "execution_count": 154,
     "metadata": {},
     "output_type": "execute_result"
    }
   ],
   "source": [
    "\"Shimmer_B8C7_Mag_Z\".replace(\"Shimmer_\", \"\")"
   ]
  },
  {
   "cell_type": "code",
   "execution_count": 163,
   "id": "0cb90209-2716-40e1-a6f9-f81951229c4c",
   "metadata": {},
   "outputs": [],
   "source": [
    "re = []\n",
    "\n",
    "for col in c:\n",
    "    for p in [\"_Waist\", \"LN\", \"Shimmer_\", \"Left\", \"Waist\"]:\n",
    "        col = col.replace(p, \"\")\n",
    "    col = col.replace(\"__\", \"_\")\n",
    "    re.append(col)"
   ]
  },
  {
   "cell_type": "code",
   "execution_count": 165,
   "id": "8418d4a8-b3f6-40ec-998e-52505fd51475",
   "metadata": {},
   "outputs": [
    {
     "name": "stdout",
     "output_type": "stream",
     "text": [
      "['B8C7_Accel_Magnitude', 'B8C7_Gyro_Magnitude', 'B8C7_pitch', 'B8C7_roll', 'B8C7_yaw', 'B8E3_Accel_Magnitude', 'B8E3_Gyro_Magnitude', 'B8E3_Accel_X', 'B8E3_Accel_Y', 'B8E3_Accel_Z', 'B8E3_Gyro_X', 'B8E3_Gyro_Y', 'B8E3_Gyro_Z', 'B8E3_Mag_X', 'B8E3_Mag_Y', 'B8E3_Mag_Z', 'B8E3_pitch', 'B8E3_roll', 'B8E3_yaw', 'S548D_Accel_Magnitude', 'S548D_Gyro_Magnitude', 'S548D_Accel_X', 'S548D_Accel_Y', 'S548D_Accel_Z', 'S548D_Gyro_X', 'S548D_Gyro_Y', 'S548D_Gyro_Z', 'S548D_Mag_X', 'S548D_Mag_Y', 'S548D_Mag_Z', 'S548D_pitch', 'S548D_roll', 'S548D_yaw', 'S57D0_Accel_X', 'S57D0_Accel_Y', 'S57D0_Accel_Z', 'S57D0_Gyro_X', 'S57D0_Gyro_Y', 'S57D0_Gyro_Z', 'S57D0_Mag_X', 'S57D0_Mag_Y', 'S57D0_Mag_Z', 'S57D0_Accel_Magnitude', 'S57D0_Gyro_Magnitude', 'S57D0_pitch', 'S57D0_roll', 'S57D0_yaw', 'S9276_Accel_X', 'S9276_Accel_Y', 'S9276_Accel_Z', 'S9276_Accel_Magnitude', 'S9276_Gyro_Magnitude', 'S9276_Gyro_X', 'S9276_Gyro_Y', 'S9276_Gyro_Z', 'S9276_Mag_X', 'S9276_Mag_Y', 'S9276_Mag_Z', 'S9276_pitch', 'S9276_roll', 'S9276_yaw', 'B8C7_Accel_X', 'B8C7_Accel_Y', 'B8C7_Accel_Z', 'B8C7_Gyro_X', 'B8C7_Gyro_Y', 'B8C7_Gyro_Z', 'B8C7_Mag_X', 'B8C7_Mag_Y', 'B8C7_Mag_Z']\n"
     ]
    }
   ],
   "source": [
    "print(re)"
   ]
  },
  {
   "cell_type": "code",
   "execution_count": null,
   "id": "3f376376-41b4-49ac-97cc-384288caa520",
   "metadata": {},
   "outputs": [],
   "source": []
  }
 ],
 "metadata": {
  "kernelspec": {
   "display_name": "Python 3",
   "language": "python",
   "name": "python3"
  },
  "language_info": {
   "codemirror_mode": {
    "name": "ipython",
    "version": 3
   },
   "file_extension": ".py",
   "mimetype": "text/x-python",
   "name": "python",
   "nbconvert_exporter": "python",
   "pygments_lexer": "ipython3",
   "version": "3.7.9"
  }
 },
 "nbformat": 4,
 "nbformat_minor": 5
}
